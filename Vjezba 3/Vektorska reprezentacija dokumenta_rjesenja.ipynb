{
 "cells": [
  {
   "cell_type": "markdown",
   "metadata": {},
   "source": [
    "# Vježba 3 - Vektorska reprezentacija dokumenta"
   ]
  },
  {
   "cell_type": "markdown",
   "metadata": {},
   "source": [
    "<ol><li> Kreirati promjenljivu <b>str1</b> koja sadrži tekst 'zdravo', te listu <b>str_list</b> koja sadrži stringove: 'zdravo', 'zbogom', 'zdravo', 'zbogom', 'zdravo', 'zdravoratumski'. Napisati kod koji broji koliko puta se string 'zdravo' nalazi u listi <b>str_list</b>.\n",
    "</li></ol>"
   ]
  },
  {
   "cell_type": "code",
   "execution_count": 1,
   "metadata": {},
   "outputs": [
    {
     "name": "stdout",
     "output_type": "stream",
     "text": [
      "4\n"
     ]
    }
   ],
   "source": [
    "#KOD ZA ZADATAK 1\n",
    "str1 = 'zdravo'\n",
    "str_list = ['zdravo', 'zbogom', 'zdravo', 'zbogom', 'zdravo', 'zdravoratumski']\n",
    "cnt = [str.count(str1) for str in str_list]\n",
    "print(sum(cnt))"
   ]
  },
  {
   "cell_type": "markdown",
   "metadata": {},
   "source": [
    "<ol start = \"2\">\n",
    "<li> Napisati kod koji se u listi <b>str_list</b> pronalazi string najsličniji riječi 'zdravorazumski', pri čemu se sličnost mjeri brojem istih slova.\n",
    "</li>\n",
    "</ol>"
   ]
  },
  {
   "cell_type": "code",
   "execution_count": 2,
   "metadata": {},
   "outputs": [
    {
     "name": "stdout",
     "output_type": "stream",
     "text": [
      "zdravoratumski 11\n"
     ]
    }
   ],
   "source": [
    "#KOD ZA ZADATAK 2\n",
    "qry = 'zdravorazumski'\n",
    "sim = [len(set(qry).intersection(str)) for str in str_list]\n",
    "print(str_list[sim.index(max(sim))], max(sim))"
   ]
  },
  {
   "cell_type": "markdown",
   "metadata": {},
   "source": [
    "<ol start = \"3\">\n",
    "<li> Kreirajte promjenljivu koja sadrži string 'eci peci pec ti si mali zec'. Tokenizujte ovu promjenljivu na riječi koje sadrži. Rezultat treba da bude lista koja sadrži pojedine riječi zadatog stringa.\n",
    "</li>\n",
    "</ol>"
   ]
  },
  {
   "cell_type": "code",
   "execution_count": 3,
   "metadata": {},
   "outputs": [
    {
     "name": "stdout",
     "output_type": "stream",
     "text": [
      "['eci', 'peci', 'pec', 'ti', 'si', 'mali', 'zec']\n"
     ]
    }
   ],
   "source": [
    "#KOD ZA ZADATAK 3\n",
    "str = 'eci peci pec ti si mali zec'\n",
    "l = str.split()\n",
    "print(l)\n"
   ]
  },
  {
   "cell_type": "markdown",
   "metadata": {
    "scrolled": true
   },
   "source": [
    "U narednom dijelu vježbe ćemo iskoristiti korpus dokumenata sa projekta Gutenberg da bismo kreirali njihovu vektorsku reprezentaciju, a nakon toga implementirali sistem koji za proizvoljan dokument pronalazi najsličniji dokument iz Gutenberg korpusa. U narednoj ćeliji koda su date dvije funkcije koje se mogu iskoristiti za tokenizaciju dokumenta."
   ]
  },
  {
   "cell_type": "code",
   "execution_count": 4,
   "metadata": {
    "collapsed": true
   },
   "outputs": [],
   "source": [
    "from nltk.stem.porter import PorterStemmer\n",
    "import re\n",
    "import nltk\n",
    "\n",
    "stemmer = PorterStemmer()\n",
    "minlen = 1\n",
    "\n",
    "def normalize(word):\n",
    "    # Funkcija koja vrši normalizaciju riječi\n",
    "    word = re.sub('[^A-Za-z0-9]+', '', word)    #Ukljanjanje svih karakter koji nisu alfanumerički\n",
    "    word = re.sub('[0-9]+', 'number', word)     #Zamjena svih brojeva u tekstu riječju number\n",
    "    word = word.lower()                         #Pretvaranje u mala slova\n",
    "    return word\n",
    "\n",
    "def tokenize(text):\n",
    "    #Funkcija koja vrši tokenizaciju teksta na sastavne riječi\n",
    "    tokens = nltk.word_tokenize(text)           #Tokenizacija teksta\n",
    "    stems = []\n",
    "    for token in tokens:\n",
    "        word = normalize(token)                 #Normalizacija pronađenih tokena\n",
    "        stem = stemmer.stem(word)               #Stemizacija tokena\n",
    "        if len(stem) > minlen:                  #Zadržavanje tokena čija je dužina veća od minlen\n",
    "            stems.append(stem)\n",
    "    return stems"
   ]
  },
  {
   "cell_type": "markdown",
   "metadata": {},
   "source": [
    "Potrebno je napisati kod koji će za sve dokumente iz Gutenberg korpusa izračunati njihovu vektorsku reprezentaciju i to sačuvati u promjenljivu representations. Da bi se to uradilo potrebno je:\n",
    "1. Za svaki dokument odrediti tokene,\n",
    "2. Odrediti rječnik za dati korpus,\n",
    "3. Za svaki dokument na osnovu rječnika odrediti vektorsku reprezentaciju.\n",
    "U narednoj ćeliji su date kostur potrebnog koda."
   ]
  },
  {
   "cell_type": "code",
   "execution_count": 5,
   "metadata": {},
   "outputs": [
    {
     "name": "stdout",
     "output_type": "stream",
     "text": [
      "29670\n"
     ]
    }
   ],
   "source": [
    "import os\n",
    "from nltk.corpus import stopwords\n",
    "\n",
    "#Putanja do korpusa\n",
    "path = './gutenberg'\n",
    "\n",
    "#Dictionary koji će za svaki dokument sadržati njegove tokene\n",
    "token_dict = {}\n",
    "\n",
    "#Prolazak kroz sve fajlove\n",
    "for dirpath, dirs, files in os.walk(path):\n",
    "    for f in files:\n",
    "        fname = os.path.join(dirpath, f)    #Putanja do fajla\n",
    "        #Izršiti učitavanje fajla i njegovu tokenizaciju\n",
    "        with open(fname, 'r') as fh:\n",
    "            txt = fh.read()\n",
    "        #Tokene svakog fajla upisati u token_dict i to tako da je ključ naziv fajla, a vrijednost tokeni\n",
    "        token_dict[fname] = tokenize(txt)\n",
    "\n",
    "#Lista koja će predstavljati rječnik svih rječi iz korpusa\n",
    "dictionary = []\n",
    "stop_words = set(stopwords.words('english'))\n",
    "\n",
    "#Proći kroz tokene za sve fajlove i dodati ih u dictionary, obratiti pažnju da često korištene riječi (stop_words) nije potrebno\n",
    "#dodavati u rječnik\n",
    "\n",
    "for tk_list in token_dict.values():\n",
    "    dictionary += [term for term in tk_list if term not in stop_words]\n",
    "            \n",
    "#Kako rječnik ne bi trebalo da sadrži ponovljene riječi potrebno je ostaviti samo jedinstvene riječi\n",
    "\n",
    "dictionary = set(dictionary)\n",
    "\n",
    "#Kako bi se ubrzalo pretraživanje rječnika, rječnik se pretvara u dictionary koji za ključeve ima riječi, a za vrijednosti\n",
    "#indeks koji odgovara poziciji te riječi u reprezentaciji\n",
    "\n",
    "dictionary_dict = {word: i for i, word in enumerate(dictionary)}\n",
    "\n",
    "print(len(dictionary_dict.keys()))"
   ]
  },
  {
   "cell_type": "code",
   "execution_count": 6,
   "metadata": {},
   "outputs": [
    {
     "name": "stdout",
     "output_type": "stream",
     "text": [
      "./gutenberg\\austen-emma.txt\n",
      "./gutenberg\\austen-persuasion.txt\n",
      "./gutenberg\\austen-sense.txt\n",
      "./gutenberg\\bible-kjv.txt\n",
      "./gutenberg\\blake-poems.txt\n",
      "./gutenberg\\bryant-stories.txt\n",
      "./gutenberg\\burgess-busterbrown.txt\n",
      "./gutenberg\\carroll-alice.txt\n",
      "./gutenberg\\chesterton-ball.txt\n",
      "./gutenberg\\chesterton-brown.txt\n",
      "./gutenberg\\chesterton-thursday.txt\n",
      "./gutenberg\\edgeworth-parents.txt\n",
      "./gutenberg\\melville-moby_dick.txt\n",
      "./gutenberg\\milton-paradise.txt\n",
      "./gutenberg\\shakespeare-caesar.txt\n",
      "./gutenberg\\shakespeare-hamlet.txt\n",
      "./gutenberg\\shakespeare-macbeth.txt\n",
      "./gutenberg\\whitman-leaves.txt\n"
     ]
    }
   ],
   "source": [
    "import numpy as np\n",
    "\n",
    "def compute_document_representation(tokens):\n",
    "    #Napisati funkciju koja kreira reprezentaciju dokumenta na osnovu ulaznih tokena i to tako da se za svaku riječ iz rječnika\n",
    "    #odredi koliko puta se pojavljuje u dokumentu\n",
    "    #Izlaz treba biti niz ranga 1 dužine koja odgovara dužini rječnika\n",
    "    \n",
    "    vec = np.zeros(len(dictionary_dict.keys()))\n",
    "    for t in tokens:\n",
    "        if t in dictionary_dict:\n",
    "            vec[dictionary_dict[t]] += 1\n",
    "    return vec\n",
    "    \n",
    "#Kreiranje numpy niza koji će sadržati reprezentacije svakog dokumenta iz korpusa, shape je (broj_dokumenata, broj_rječi)\n",
    "representations = np.zeros((len(token_dict), len(dictionary_dict)))\n",
    "\n",
    "#Kreirati reprezentaciju svih dokumenta iz korpusa tako što ćete iskoristiti prethodno napisanu funkciju\n",
    "\n",
    "for k, doc in enumerate(token_dict.keys()):\n",
    "    print(doc)\n",
    "    representations[k] = compute_document_representation(token_dict[doc])\n"
   ]
  },
  {
   "cell_type": "markdown",
   "metadata": {},
   "source": [
    "Nakon što smo odredili reprezentaciju za sve dokumente ove reprezentacije je moguće iskoristiti za pretraživanje. Pretraživanje izvršiti na način da se za proizvoljno izabran dokument pronalaze tri najsličnija dokumenta iz korpusa. Za računanje sličnosti iskoristiti i SSD i kosinusnu sličnost. Za računanje kosinusne sličnosti je moguće iskoristiti funkciju cosine_similarity iz modula sklearn.metrics.pairwise."
   ]
  },
  {
   "cell_type": "code",
   "execution_count": 7,
   "metadata": {},
   "outputs": [
    {
     "name": "stdout",
     "output_type": "stream",
     "text": [
      "[ 1  2 11]\n",
      "./gutenberg\\austen-emma.txt\n",
      "./gutenberg\\austen-persuasion.txt\n",
      "./gutenberg\\austen-sense.txt\n",
      "./gutenberg\\edgeworth-parents.txt\n"
     ]
    }
   ],
   "source": [
    "from sklearn.metrics.pairwise import cosine_similarity\n",
    "\n",
    "csim = cosine_similarity(representations[0].reshape(1, -1), representations)\n",
    "idx = csim.argsort()\n",
    "print(idx[0][-2:-5:-1])\n",
    "print(list(token_dict.keys())[0])\n",
    "for i in idx[0][-2:-5:-1]:\n",
    "    print(list(token_dict.keys())[i])\n"
   ]
  },
  {
   "cell_type": "markdown",
   "metadata": {},
   "source": [
    "Za računanje TFIDF reprezentacije dokumenta moguće je iskoristiti sklearn biblioteku i kod dat u narednoj ćeliji."
   ]
  },
  {
   "cell_type": "code",
   "execution_count": 8,
   "metadata": {},
   "outputs": [
    {
     "name": "stdout",
     "output_type": "stream",
     "text": [
      "./gutenberg\\austen-emma.txt\n",
      "./gutenberg\\austen-persuasion.txt\n",
      "./gutenberg\\austen-sense.txt\n",
      "./gutenberg\\bible-kjv.txt\n",
      "./gutenberg\\blake-poems.txt\n",
      "./gutenberg\\bryant-stories.txt\n",
      "./gutenberg\\burgess-busterbrown.txt\n",
      "./gutenberg\\carroll-alice.txt\n",
      "./gutenberg\\chesterton-ball.txt\n",
      "./gutenberg\\chesterton-brown.txt\n",
      "./gutenberg\\chesterton-thursday.txt\n",
      "./gutenberg\\edgeworth-parents.txt\n",
      "./gutenberg\\melville-moby_dick.txt\n",
      "./gutenberg\\milton-paradise.txt\n",
      "./gutenberg\\shakespeare-caesar.txt\n",
      "./gutenberg\\shakespeare-hamlet.txt\n",
      "./gutenberg\\shakespeare-macbeth.txt\n",
      "./gutenberg\\whitman-leaves.txt\n"
     ]
    },
    {
     "data": {
      "text/plain": [
       "<1x29559 sparse matrix of type '<class 'numpy.float64'>'\n",
       "\twith 4 stored elements in Compressed Sparse Row format>"
      ]
     },
     "execution_count": 8,
     "metadata": {},
     "output_type": "execute_result"
    }
   ],
   "source": [
    "from sklearn.feature_extraction.text import TfidfVectorizer\n",
    "import string\n",
    "\n",
    "#Putanja do korpusa\n",
    "path = './gutenberg'\n",
    "\n",
    "#Dictionary koji sadrži tekst svakog dokumenta\n",
    "text_dict = {}\n",
    "\n",
    "#Čitanje sadržaja svih dokumenata\n",
    "for dirpath, dirs, files in os.walk(path):\n",
    "    for f in files:\n",
    "        fname = os.path.join(dirpath, f)\n",
    "        print (fname)\n",
    "        with open(fname) as file:\n",
    "            text_dict[f] = file.read()\n",
    "\n",
    "#Definisanje objekta koji služi za određivanje TFIDF reprezentacije, za tokenizaciju se koristifunkcije data\n",
    "#kao parametar tokenize, dok se kao stop riječi koriste one iz enegleskog jezika (moguće je zadati i listu koja sadrži stop riječi)\n",
    "tfidf = TfidfVectorizer(tokenizer=tokenize, stop_words='english')\n",
    "\n",
    "#Učenje rječnika i transformacija dokumenata koji su iskorišteni za učenje rječnika\n",
    "#U representations_tfidf se sada nalazi rezrezentacija svih dokumenata iz korpusa\n",
    "representations_tfidf = tfidf.fit_transform(text_dict.values())\n",
    "\n",
    "str = 'all great and precious things are lonely.'\n",
    "\n",
    "#Određivanje reprezentacije za novi dokument\n",
    "#Treba obratiti pažnju da su reprezentacije date kao sparse matrice radi efikasnijg čuvanja u memoriji ali i bržeg procesiranja.\n",
    "response = tfidf.transform([str])\n",
    "\n",
    "response"
   ]
  },
  {
   "cell_type": "markdown",
   "metadata": {},
   "source": [
    "Za proizvoljan dokument odrediti 3 najsličnija dokumenta iz korpusa na osnovu SSD i kosinusne sličnosti. Prethodno navedenu funkciju za kosinusnu sličnost je moguće koristiti i sa sparse matricama."
   ]
  },
  {
   "cell_type": "code",
   "execution_count": 10,
   "metadata": {},
   "outputs": [
    {
     "name": "stdout",
     "output_type": "stream",
     "text": [
      "[[14 16  3 15  4  6 13  7 17 10  8 12  5  2  9  1 11  0]]\n",
      "[11  1  9]\n",
      "./gutenberg\\austen-emma.txt\n",
      "./gutenberg\\edgeworth-parents.txt\n",
      "./gutenberg\\austen-persuasion.txt\n",
      "./gutenberg\\chesterton-brown.txt\n"
     ]
    }
   ],
   "source": [
    "csim = cosine_similarity(representations_tfidf[0], representations_tfidf)\n",
    "idx = csim.argsort()\n",
    "print(idx)\n",
    "print(idx[0][-2:-5:-1])\n",
    "print(list(token_dict.keys())[0])\n",
    "for i in idx[0][-2:-5:-1]:\n",
    "    print(list(token_dict.keys())[i])"
   ]
  },
  {
   "cell_type": "code",
   "execution_count": null,
   "metadata": {
    "collapsed": true
   },
   "outputs": [],
   "source": []
  }
 ],
 "metadata": {
  "kernelspec": {
   "display_name": "Python 3",
   "language": "python",
   "name": "python3"
  },
  "language_info": {
   "codemirror_mode": {
    "name": "ipython",
    "version": 3
   },
   "file_extension": ".py",
   "mimetype": "text/x-python",
   "name": "python",
   "nbconvert_exporter": "python",
   "pygments_lexer": "ipython3",
   "version": "3.6.3"
  }
 },
 "nbformat": 4,
 "nbformat_minor": 2
}
