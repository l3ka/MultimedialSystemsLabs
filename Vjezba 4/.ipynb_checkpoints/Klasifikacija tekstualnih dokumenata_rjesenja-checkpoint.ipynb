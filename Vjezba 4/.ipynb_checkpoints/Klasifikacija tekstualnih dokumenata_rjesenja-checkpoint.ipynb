{
 "cells": [
  {
   "cell_type": "markdown",
   "metadata": {},
   "source": [
    "# Vježba 4 - Klasifikacija tekstualnih dokumenata"
   ]
  },
  {
   "cell_type": "markdown",
   "metadata": {
    "scrolled": true
   },
   "source": [
    "U sklopu vježbe ćemo izvršiti klasifikaciju dokumenata na spam i ham. Za obučavanje klasifikatora se koristi trening skup, dok se za tesitiranje rada klasifikator koristi testni skup. Za izbor hiperparametara klasifikatora se koristi validacioni skup. U narednoj ćeliji je potrebo napisati kod koji će izvršiti podjelu skupa dokumenata na treining i test skup. Za ovo je moguće iskoristiti funkciju <a href=\"http://scikit-learn.org/stable/modules/generated/sklearn.model_selection.train_test_split.html\">train_test_split</a> iz biblioteke sklearn. Skup je potrebno podjeliti tako da 50% dokumenata pripada trening skupu, a 50% test skupu. Nakon toga od dobijenog traing skupa potrebno 20% uzoraka ostaviti za validacioni skup. Obratiti pažnju na parametar stratify da se ne desi da se u jednom od skupova nalazi većina predstavnika jedne od klasa."
   ]
  },
  {
   "cell_type": "code",
   "execution_count": 1,
   "metadata": {
    "collapsed": true
   },
   "outputs": [],
   "source": [
    "import string\n",
    "import os\n",
    "\n",
    "#Putanja do korpusa\n",
    "path = \"./enron\"\n",
    "\n",
    "#Lista koja sadrži putanje do svih fajlova\n",
    "file_paths = []\n",
    "\n",
    "#Lista koja sadrži labele za sve fajlove\n",
    "targets = []\n",
    "\n",
    "#Prolazak kroz sve fajlove\n",
    "for dirpath, dirs, files in os.walk(path):\n",
    "    for f in files:\n",
    "        #print(fname)\n",
    "        fname = os.path.join(dirpath, f)    #Putanja do fajla\n",
    "        file_paths.append(fname)            #Dodavanje putanje u listu putanja\n",
    "        if fname.split('.')[-2] == \"spam\":\n",
    "            targets.append(1)\n",
    "        else:\n",
    "            targets.append(0)"
   ]
  },
  {
   "cell_type": "code",
   "execution_count": 2,
   "metadata": {
    "collapsed": true
   },
   "outputs": [],
   "source": [
    "from sklearn.model_selection import train_test_split\n",
    "\n",
    "#KOD\n",
    "paths_train, paths_test, y_train, y_test = train_test_split(file_paths, targets, test_size = 0.5, stratify = targets)\n",
    "paths_train, paths_val, y_train, y_val = train_test_split(paths_train, y_train, test_size = 0.2, stratify = y_train)"
   ]
  },
  {
   "cell_type": "markdown",
   "metadata": {},
   "source": [
    "U naredne dvije ćelije je dat kod koji vrši računanje vektorske reprezentacije za svaki od dokumenata iz sva tri skupa."
   ]
  },
  {
   "cell_type": "code",
   "execution_count": 3,
   "metadata": {
    "collapsed": true
   },
   "outputs": [],
   "source": [
    "from nltk.stem.porter import PorterStemmer\n",
    "import re\n",
    "import nltk\n",
    "\n",
    "stemmer = PorterStemmer()\n",
    "minlen = 1\n",
    "\n",
    "def normalize(text):\n",
    "    # Funkcija koja vrši normalizaciju teksta\n",
    "    text = text.lower()                                         #Pretvaranja u mala slova\n",
    "    text = re.sub('<[^<>]+>', ' ', text)                        #Uklanjanje HTML tagova\n",
    "    text = re.sub('(http|https)://[^\\s]*', 'httpaddr', text)    #Uklanjanje URL-ova\n",
    "    text = re.sub('[^\\s]+@[^\\s]+', 'emailaddr', text)           #Uklanjanje mail adresa\n",
    "    text = re.sub('[0-9]+', 'number', text)                     #Zamjena svih brojeva u tekstu riječju number\n",
    "    text = re.sub('[$]+', 'dollar', text)                       #Zamjana znaka $ rječju dollar\n",
    "    return text\n",
    "\n",
    "def tokenize(text):\n",
    "    #Funkcija koja vrši tokenizaciju teksta na sastavne riječi\n",
    "    text = normalize(text)\n",
    "    tokens = nltk.word_tokenize(text)            #Tokenizacija teksta\n",
    "    stems = []\n",
    "    for token in tokens:\n",
    "        stem = stemmer.stem(token)               #Stemizacija tokena\n",
    "        if len(stem) > minlen:                   #Zadržavanje tokena čija je dužina veća od minlen\n",
    "            stems.append(stem)\n",
    "    return stems"
   ]
  },
  {
   "cell_type": "code",
   "execution_count": 4,
   "metadata": {},
   "outputs": [
    {
     "data": {
      "text/plain": [
       "(2068, 21936)"
      ]
     },
     "execution_count": 4,
     "metadata": {},
     "output_type": "execute_result"
    }
   ],
   "source": [
    "from sklearn.feature_extraction.text import TfidfVectorizer\n",
    "import numpy as np\n",
    "\n",
    "#Dictionary koji sadrži tekst svakog dokumenta iz trening skupa\n",
    "train_dict = {}\n",
    "\n",
    "#Dictionary koji sadrži tekst svakog dokumenta iz validacionog skupa\n",
    "val_dict = {}\n",
    "\n",
    "#Dictionary koji sadrži tekst svakog dokumenta iz test skupa\n",
    "test_dict = {}\n",
    "\n",
    "#Prolazak kroz sve fajlove iz svih skupova\n",
    "for fname in paths_train:\n",
    "    with open(fname, 'r', encoding=\"utf8\", errors='ignore') as fh:\n",
    "        train_dict[fname] = fh.read()\n",
    "        \n",
    "for fname in paths_val:\n",
    "    with open(fname, 'r', encoding=\"utf8\", errors='ignore') as fh:\n",
    "        val_dict[fname] = fh.read()\n",
    "        \n",
    "for fname in paths_test:\n",
    "    with open(fname, 'r', encoding=\"utf8\", errors='ignore') as fh:\n",
    "        test_dict[fname] = fh.read()\n",
    "\n",
    "#Definisanje objekta koji služi za određivanje TFIDF reprezentacije, za tokenizaciju se koristifunkcije data\n",
    "#kao parametar tokenize, dok se kao stop riječi koriste one iz enegleskog jezika (moguće je zadati i listu koja sadrži stop riječi)\n",
    "tfidf = TfidfVectorizer(tokenizer=tokenize, stop_words='english')\n",
    "\n",
    "#Učenje rječnika i transformacija dokumenata koji su iskorišteni za učenje rječnika\n",
    "#U representations_tfidf se sada nalazi rezrezentacija svih dokumenata iz korpusa\n",
    "X_train = tfidf.fit_transform(train_dict.values())\n",
    "y_train = np.array(y_train)\n",
    "\n",
    "X_val = tfidf.transform(val_dict.values())\n",
    "y_val = np.array(y_val)\n",
    "\n",
    "X_test = tfidf.transform(test_dict.values())\n",
    "y_test = np.array(y_test)\n",
    "\n",
    "X_train.shape"
   ]
  },
  {
   "cell_type": "markdown",
   "metadata": {},
   "source": [
    "U naredne dvije ćelije je potrebno napisati kod koji implementira klasifikator na principu k najbližih susjeda, te implementirati funkciju koja vrši računanje tačnosti. Korisna fukcija pri implementrianju knn algoritma je <a href=\"http://scikit-learn.org/stable/modules/generated/sklearn.metrics.pairwise_distances.html\">pairwise_distances</a> iz sklearn biblioteke."
   ]
  },
  {
   "cell_type": "code",
   "execution_count": 5,
   "metadata": {
    "collapsed": true
   },
   "outputs": [],
   "source": [
    "from sklearn.metrics.pairwise import pairwise_distances\n",
    "\n",
    "def knn(query, train_data, train_targets, k = 5):\n",
    "    \"\"\"Fukcija koja kao rezultat vraća predikcije za sve dokumente iz query vektora na osnovu knn algoritma\n",
    "    \n",
    "    Parameters\n",
    "    ----------\n",
    "    query - niz oblika (n_dokumenata, n_obilježija) koji predstavlja upit\n",
    "    train_data - niz oblika (n_dokumenata, n_obilježija) koji predstavlja trening skup\n",
    "    train_targets - niz oblika (n_dokumenata) koji sadrži labele za elemente trening skupa\n",
    "    k - parametar koji određuje koliko se susjeda koristi\n",
    "    \n",
    "    Returns\n",
    "    -------\n",
    "    predictions - niz oblika (n_dokumenata, ) koji sadrži prediktovanu labelu za sve dokumente iz query\"\"\"\n",
    "    \n",
    "    #KOD\n",
    "    distances = pairwise_distances(query, train_data)\n",
    "    indices = np.argsort(distances, axis = 1)\n",
    "    \n",
    "    k_targets = train_targets[indices[:, :k]].astype(np.int64)\n",
    "    results = np.zeros(k_targets.shape[0])\n",
    "    \n",
    "    for i in range(k_targets.shape[0]):\n",
    "        results[i] = np.argmax(np.bincount(k_targets[i, :]))\n",
    "        \n",
    "    return results"
   ]
  },
  {
   "cell_type": "code",
   "execution_count": 6,
   "metadata": {
    "collapsed": true
   },
   "outputs": [],
   "source": [
    "def calculate_accuracy(predictions, targets):\n",
    "    \"\"\"Funkcija koja vrši računanje tačnosti\n",
    "    \n",
    "    Parameters\n",
    "    ----------\n",
    "    predictions - niz oblika (n_dokumenata, ) koji sadrži prediktovane labele\n",
    "    targets - niz oblika (n_dokumenata, ) koji sadrži stvarne labele\n",
    "    \n",
    "    Returns\n",
    "    -------\n",
    "    accuracy - tačnost prediktovanih vrijednosti\"\"\"\n",
    "    \n",
    "    #KOD\n",
    "    return np.sum(predictions == targets)/(targets.shape[0])"
   ]
  },
  {
   "cell_type": "markdown",
   "metadata": {},
   "source": [
    "Izvršiti obučavanje klasifikatora na bazi knn algoritma i izvršiti iybor hiperparametara. Provjeriti uticaj parametra k na tačnost klasifikacije. Paramatear k uzeti iz opsega [1, 7]. Nacrtati grafik zavisnosti tačnosti klasifikacije na validacionom skupu od parametra k."
   ]
  },
  {
   "cell_type": "code",
   "execution_count": 7,
   "metadata": {},
   "outputs": [
    {
     "data": {
      "text/plain": [
       "[<matplotlib.lines.Line2D at 0x1e3cbd40b38>]"
      ]
     },
     "execution_count": 7,
     "metadata": {},
     "output_type": "execute_result"
    },
    {
     "data": {
      "image/png": "[encoded data removed]",
      "text/plain": [
       "<matplotlib.figure.Figure at 0x1e3cafa5d30>"
      ]
     },
     "metadata": {},
     "output_type": "display_data"
    }
   ],
   "source": [
    "#KOD\n",
    "import matplotlib.pyplot as plt\n",
    "%matplotlib inline\n",
    "accuracies = []\n",
    "\n",
    "for k in range(1, 8):\n",
    "    predictions = knn(X_val, X_train, y_train, k)\n",
    "    acc = calculate_accuracy(predictions, y_val)\n",
    "    accuracies.append(acc)\n",
    "    \n",
    "plt.plot(range(1, 8), accuracies, marker = 'o')"
   ]
  },
  {
   "cell_type": "markdown",
   "metadata": {},
   "source": [
    "Iskoristiti funkciju <a href=\"http://scikit-learn.org/stable/modules/generated/sklearn.metrics.confusion_matrix.html\">confusion_matrix</a> iz biblioteke sklearn za određivanje matrice konfuzija. Za parametar k koji daje najbolje rezultate na validacionom skupu prikazati matricu konfuzija i ta;nost na testnom skupu."
   ]
  },
  {
   "cell_type": "code",
   "execution_count": 8,
   "metadata": {},
   "outputs": [
    {
     "name": "stdout",
     "output_type": "stream",
     "text": [
      "[[1803   33]\n",
      " [ 138  612]]\n",
      "0.9338747099767981\n"
     ]
    }
   ],
   "source": [
    "from sklearn.metrics import confusion_matrix\n",
    "\n",
    "#KOD\n",
    "predictions = knn(X_test, X_train, y_train, 1)\n",
    "cm = confusion_matrix(y_test, predictions)\n",
    "acc = calculate_accuracy(predictions, y_test)\n",
    "\n",
    "print(cm)\n",
    "print(acc)"
   ]
  },
  {
   "cell_type": "markdown",
   "metadata": {},
   "source": [
    "U narednom djelu vježbe je potrebno iskoristiti mašine sa vektorima nosačima kao algoritam za klasifikaciju. Implementacija mašina sa vektorima nosačima je data u biblioteci sklearn u klasi <a href=\"http://scikit-learn.org/stable/modules/generated/sklearn.svm.SVC.html\">SVC</a>. Za treniranje klasifikatora je moguće iskoristiti metodu fit, dok se za predikciju koristi metoda predict. Provjeriti uticaje parametara kao što su tip kernela, C i gamma na tačnost klasifikacije na validacionom skupu. Kao kernel isprobati linearni i RBF, za parametar C iskoristiti vrijednosti {1, 10, 100, 1000}, a za parametar gamma {0.1, 0.01}."
   ]
  },
  {
   "cell_type": "code",
   "execution_count": 9,
   "metadata": {},
   "outputs": [
    {
     "name": "stdout",
     "output_type": "stream",
     "text": [
      "C = 1 : accuracy = 0.9788\n",
      "C = 10 : accuracy = 0.9826\n",
      "C = 100 : accuracy = 0.9826\n",
      "C = 1000 : accuracy = 0.9826\n"
     ]
    }
   ],
   "source": [
    "from sklearn.svm import SVC\n",
    "\n",
    "#KOD\n",
    "for C in [1, 10, 100, 1000]:\n",
    "    svc = SVC(C = C, kernel = 'linear')\n",
    "    svc.fit(X_train, y_train)\n",
    "    predictions = svc.predict(X_val)\n",
    "    acc = calculate_accuracy(predictions, y_val)\n",
    "    print('C = {} : accuracy = {:.4f}'.format(C, acc))"
   ]
  },
  {
   "cell_type": "code",
   "execution_count": 10,
   "metadata": {},
   "outputs": [
    {
     "name": "stdout",
     "output_type": "stream",
     "text": [
      "C = 1, gamma = 0.1 : accuracy = 0.9595\n",
      "C = 1, gamma = 0.01 : accuracy = 0.7104\n",
      "C = 10, gamma = 0.1 : accuracy = 0.9807\n",
      "C = 10, gamma = 0.01 : accuracy = 0.9614\n",
      "C = 100, gamma = 0.1 : accuracy = 0.9846\n",
      "C = 100, gamma = 0.01 : accuracy = 0.9807\n",
      "C = 1000, gamma = 0.1 : accuracy = 0.9846\n",
      "C = 1000, gamma = 0.01 : accuracy = 0.9846\n"
     ]
    }
   ],
   "source": [
    "#KOD\n",
    "for C in [1, 10, 100, 1000]:\n",
    "    for gamma in [0.1, 0.01]:\n",
    "        svc = SVC(C = C, gamma = gamma, kernel = 'rbf')\n",
    "        svc.fit(X_train, y_train)\n",
    "        predictions = svc.predict(X_val)\n",
    "        acc = calculate_accuracy(predictions, y_val)\n",
    "        print('C = {}, gamma = {} : accuracy = {:.4f}'.format(C, gamma, acc))"
   ]
  },
  {
   "cell_type": "markdown",
   "metadata": {},
   "source": [
    "Prikazati matricu konfuzija i ta;nost na testnom skupu za parametre mašine sa vektorima nosačima koja daje najveću tačnost na validacionom skupu."
   ]
  },
  {
   "cell_type": "code",
   "execution_count": 11,
   "metadata": {},
   "outputs": [
    {
     "name": "stdout",
     "output_type": "stream",
     "text": [
      "[[1798   38]\n",
      " [  19  731]]\n",
      "0.9779582366589327\n"
     ]
    }
   ],
   "source": [
    "#KOD\n",
    "svc = SVC(C = 100, gamma = 0.1, kernel = 'rbf')\n",
    "svc.fit(X_train, y_train)\n",
    "predictions = svc.predict(X_test)\n",
    "\n",
    "cm = confusion_matrix(y_test, predictions)\n",
    "acc = calculate_accuracy(predictions, y_test)\n",
    "\n",
    "print(cm)\n",
    "print(acc)"
   ]
  },
  {
   "cell_type": "code",
   "execution_count": null,
   "metadata": {
    "collapsed": true
   },
   "outputs": [],
   "source": []
  }
 ],
 "metadata": {
  "kernelspec": {
   "display_name": "Python 3",
   "language": "python",
   "name": "python3"
  },
  "language_info": {
   "codemirror_mode": {
    "name": "ipython",
    "version": 3
   },
   "file_extension": ".py",
   "mimetype": "text/x-python",
   "name": "python",
   "nbconvert_exporter": "python",
   "pygments_lexer": "ipython3",
   "version": "3.7.0"
  }
 },
 "nbformat": 4,
 "nbformat_minor": 2
}
